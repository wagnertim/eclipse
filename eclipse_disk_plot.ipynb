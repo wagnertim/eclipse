{
 "cells": [
  {
   "cell_type": "markdown",
   "metadata": {},
   "source": [
    "# Plot eclipse disk coverage\n",
    "\n",
    "This notebook was created to plot an approximation of what the solar disk looks like during an eclipse at a particular location. This is largely based on the ipynb posted here: https://cocalc.com/share/public_paths/bf823e12dd03bf876f4a18b23f429972768733a7\n",
    "\n",
    "In order to make this calculation, we need an ephemeris to plot the location of the moon relative to the sun. We want the plotting to be on a solar-centric grid. Therefore, we'll find the location of the sun, then find the azimuth and elevation of the moon relative to the sun and plot a black disk over that position."
   ]
  },
  {
   "cell_type": "markdown",
   "metadata": {},
   "source": [
    "## Preparation\n",
    "\n",
    "Here's where we load all of the appropriate packages:"
   ]
  },
  {
   "cell_type": "code",
   "execution_count": 1,
   "metadata": {},
   "outputs": [],
   "source": [
    "from datetime import datetime\n",
    "import numpy as np\n",
    "import astropy.coordinates as coord\n",
    "from astropy.time import Time\n",
    "import astropy.units as units\n",
    "import astropy.constants as consts\n",
    "\n",
    "import matplotlib.pyplot as plt\n",
    "import matplotlib.animation as animation\n",
    "import matplotlib\n",
    "\n",
    "from IPython.display import HTML\n",
    "\n",
    "#  Define a site index to change between different locations\n",
    "\n",
    "siteIdx = 0"
   ]
  },
  {
   "cell_type": "markdown",
   "metadata": {},
   "source": [
    "## Locations\n",
    "\n",
    "Let's geolocate our sites by creating a class of locations."
   ]
  },
  {
   "cell_type": "code",
   "execution_count": 2,
   "metadata": {},
   "outputs": [],
   "source": [
    "class sites:\n",
    "    \n",
    "    id=['sgp','rid','4cn']\n",
    "    long_name=['ARM SGP','Richmond, IN','Four Corners']\n",
    "    lat = [36.605211,39.816966,37]\n",
    "    lon = [-97.485703,-84.912830,-109]\n",
    "    alt = [318,330,300]"
   ]
  },
  {
   "cell_type": "markdown",
   "metadata": {},
   "source": [
    "## Processing\n",
    "\n",
    "Here we're going to use the astropy toolbox to process the position of the sun and the moon.  Start with generating an array of times for calculation from 18 UTC to 23 UTC. Note that astropy requires its own time format, so we're going to first generate the times as an array of numpy datetimes then convert those to the proprietary astropy format.\n",
    "\n",
    "Originally this went from 18-22 UTC which worked for SGP.  However, the design of the code requires that ample time be available after the eclipse is over. Therefore, the end time had to be expanded when we moved further east to Indiana."
   ]
  },
  {
   "cell_type": "code",
   "execution_count": 3,
   "metadata": {},
   "outputs": [],
   "source": [
    "timesDT = np.arange('2024-04-08T17:00', '2024-04-08T23:00', dtype='datetime64[m]')\n",
    "#timesDT = np.arange('2023-10-14T14:00', '2023-10-19T23:00', dtype='datetime64[m]')\n",
    "times = Time(timesDT)"
   ]
  },
  {
   "cell_type": "markdown",
   "metadata": {},
   "source": [
    "Now we generate the position of the earth, then from that find the coordinates of the sun and moon."
   ]
  },
  {
   "cell_type": "code",
   "execution_count": 4,
   "metadata": {},
   "outputs": [],
   "source": [
    "earth = coord.EarthLocation(lon=sites.lon[siteIdx]*units.deg, \n",
    "                            lat=sites.lat[siteIdx]*units.deg, \n",
    "                            height=sites.alt[siteIdx]*units.m)\n",
    "\n",
    "moon = coord.get_moon(times,location = earth)\n",
    "sun = coord.get_sun(times)"
   ]
  },
  {
   "cell_type": "markdown",
   "metadata": {},
   "source": [
    "One issue we're going to encounter is that we'll need to know the solid angle (or angular radius) of the sun and moon to account for both total and annular eclipses. To get that from astropy, we'll need to find the distance to the sun and moon, grab their radii, and do some basic trigonometry. My plan below is to find the ratio of the moon apparent size to that of the sun, then scale the moon patch plot accordingly. "
   ]
  },
  {
   "cell_type": "code",
   "execution_count": 5,
   "metadata": {},
   "outputs": [],
   "source": [
    "distMoon = moon.distance *consts.au  / units.au\n",
    "distSun = sun.distance * consts.au / units.au\n",
    "\n",
    "radMoon = 1000 * 1737.4 * units.m\n",
    "radSun = consts.R_sun * 1\n",
    "\n",
    "\n",
    "#  The aparent size ratio is what's really important here. How large is the moon relative to the sun?\n",
    "#  Just do simple trig to find the angular radius, then take the ratio of the two.\n",
    "\n",
    "\n",
    "moonAngRad = np.sin((radMoon/distMoon)* units.rad)\n",
    "sunAngRad = np.sin((radSun/distSun)*units.rad)\n",
    "\n",
    "moonFrac = (moonAngRad/sunAngRad)\n",
    "\n",
    "# Convert from helioprojective coordinates to altitude and azimuth angles.\n",
    "\n",
    "alt_az = coord.AltAz(obstime=times, location=earth)\n",
    "\n",
    "moon_coords = moon.transform_to(alt_az)\n",
    "sun_coords = sun.transform_to(alt_az)\n",
    "\n",
    "separation = moon_coords.separation(sun_coords)"
   ]
  },
  {
   "cell_type": "markdown",
   "metadata": {},
   "source": [
    "## Plotting\n",
    "\n",
    "We've now done much of the hard work (computationally speaking) so let's sit back, relax, and plot this up. Of course, for a python novice, this is actually quite difficult. Therefore, I'm liberally borrowing from the link above."
   ]
  },
  {
   "cell_type": "code",
   "execution_count": 6,
   "metadata": {},
   "outputs": [
    {
     "data": {
      "image/png": "[encoded data removed]",
      "text/plain": [
       "<Figure size 600x600 with 1 Axes>"
      ]
     },
     "metadata": {},
     "output_type": "display_data"
    }
   ],
   "source": [
    "i0 = separation.argmin() - 128\n",
    "i1 = separation.argmin() + 128\n",
    "\n",
    "\n",
    "fig, ax = plt.subplots(1, 1, figsize=(6, 6))\n",
    "\n",
    "\n",
    "x = np.arange(0, 2*np.pi, 0.01)\n",
    "\n",
    "moon_pa = matplotlib.patches.Circle((0,0), radius = 1,\n",
    "                              color='#000000', zorder=2)\n",
    "sun_pa = matplotlib.patches.Circle((0,0), radius = 1,\n",
    "                             color='#FFFFFF', zorder=1)\n",
    "\n",
    "ax.set_aspect(\"equal\", adjustable=\"datalim\")\n",
    "\n",
    "ax.add_patch(moon_pa)\n",
    "ax.add_patch(sun_pa)\n",
    "\n",
    "def animate(i):\n",
    "    moon_pa.center = [moon_coords.az[i].degree, moon_coords.alt[i].degree]\n",
    "    sun_pa.center = [sun_coords.az[i].degree, sun_coords.alt[i].degree]\n",
    "    \n",
    "    moon_pa.center = np.array(moon_pa.center) - np.array(sun_pa.center)\n",
    "\n",
    "    \n",
    "\n",
    "    sun_pa.height = 0.5\n",
    "    sun_pa.width = 0.5\n",
    "    \n",
    "    moon_pa.height = 0.5 * moonFrac[i]\n",
    "    moon_pa.width = 0.5 * moonFrac[i]\n",
    "\n",
    "    \n",
    "    sun_pa.center = [0,0]\n",
    "    \n",
    "    ax.set_xlim(-0.5, 0.5)\n",
    "    ax.set_ylim(-0.5, 0.5)\n",
    "    ax.set_facecolor((0.0, 0.0, 0.0))\n",
    "    ax.set_xticks([])\n",
    "    ax.set_yticks([])\n",
    "    \n",
    "    dstr = str(timesDT[i])[:10]\n",
    "    tstr = str(timesDT[i])[11:]\n",
    "    ttl = sites.long_name[siteIdx] + ' ' + dstr + ' ' + tstr + ' UTC'\n",
    " \n",
    "    \n",
    "    ax.text(-0.4, 0.4, ttl,color='white',fontsize=16,backgroundcolor='black',zorder=3)\n",
    "    \n",
    "    return moon_pa, sun_pa\n",
    "\n",
    "def init():\n",
    "    return animate(i0)\n",
    "\n",
    "ani = animation.FuncAnimation(fig, animate, np.arange(i0, i1),\n",
    "                              init_func=init, interval=50, blit=True, repeat=False)"
   ]
  },
  {
   "cell_type": "code",
   "execution_count": null,
   "metadata": {},
   "outputs": [],
   "source": [
    "HTML(ani.to_html5_video())"
   ]
  }
 ],
 "metadata": {
  "kernelspec": {
   "display_name": "anaconda",
   "language": "python",
   "name": "anaconda"
  },
  "language_info": {
   "codemirror_mode": {
    "name": "ipython",
    "version": 3
   },
   "file_extension": ".py",
   "mimetype": "text/x-python",
   "name": "python",
   "nbconvert_exporter": "python",
   "pygments_lexer": "ipython3",
   "version": "3.11.5"
  }
 },
 "nbformat": 4,
 "nbformat_minor": 4
}
