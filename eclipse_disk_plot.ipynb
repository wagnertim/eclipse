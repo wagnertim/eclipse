{
 "cells": [
  {
   "cell_type": "markdown",
   "metadata": {},
   "source": [
    "# Plot eclipse disk coverage\n",
    "\n",
    "This notebook was created to plot an approximation of what the solar disk looks like during an eclipse at a particular location. This is largely based on the ipynb posted here: https://cocalc.com/share/public_paths/bf823e12dd03bf876f4a18b23f429972768733a7\n",
    "\n",
    "In order to make this calculation, we need an ephemeris to plot the location of the moon relative to the sun. We want the plotting to be on a solar-centric grid. Therefore, we'll find the location of the sun, then find the azimuth and elevation of the moon relative to the sun and plot a black disk over that position."
   ]
  },
  {
   "cell_type": "markdown",
   "metadata": {},
   "source": [
    "## Preparation\n",
    "\n",
    "Here's where we load all of the appropriate packages:"
   ]
  },
  {
   "cell_type": "code",
   "execution_count": 1,
   "metadata": {},
   "outputs": [],
   "source": [
    "from datetime import datetime\n",
    "import numpy as np\n",
    "import astropy.coordinates as coord\n",
    "from astropy.time import Time\n",
    "import astropy.units as units\n",
    "\n",
    "import matplotlib.pyplot as plt\n",
    "import matplotlib.animation as animation\n",
    "import matplotlib\n",
    "\n",
    "from IPython.display import HTML\n",
    "\n",
    "#  Define a site index to change between different locations\n",
    "\n",
    "siteIdx = 1"
   ]
  },
  {
   "cell_type": "markdown",
   "metadata": {},
   "source": [
    "## Locations\n",
    "\n",
    "Let's geolocate our sites by creating a class of locations."
   ]
  },
  {
   "cell_type": "code",
   "execution_count": 2,
   "metadata": {},
   "outputs": [],
   "source": [
    "class sites:\n",
    "    \n",
    "    id=['sgp','rid']\n",
    "    long_name=['ARM SGP','Richmond, IN']\n",
    "    lat = [36.605211,39.816966]\n",
    "    lon = [-97.485703,-84.912830]\n",
    "    alt = [318,330]"
   ]
  },
  {
   "cell_type": "markdown",
   "metadata": {},
   "source": [
    "## Processing\n",
    "\n",
    "Here we're going to use the astropy toolbox to process the position of the sun and the moon.  Start with generating an array of times for calculation from 18 UTC to 22 UTC. Note that astropy requires its own time format, so we're going to first generate the times as an array of numpy datetimes then convert those to the proprietary astropy format."
   ]
  },
  {
   "cell_type": "code",
   "execution_count": 3,
   "metadata": {},
   "outputs": [],
   "source": [
    "timesDT = np.arange('2024-04-08T17:00', '2024-04-08T21:00', dtype='datetime64[m]')\n",
    "times = Time(timesDT)"
   ]
  },
  {
   "cell_type": "markdown",
   "metadata": {},
   "source": [
    "Now we generate the position of the earth, then from that find the coordinates of the sun and moon."
   ]
  },
  {
   "cell_type": "code",
   "execution_count": 4,
   "metadata": {},
   "outputs": [],
   "source": [
    "earth = coord.EarthLocation(lon=sites.lon[siteIdx]*units.deg, \n",
    "                            lat=sites.lat[siteIdx]*units.deg, \n",
    "                            height=sites.alt[siteIdx]*units.m)\n",
    "\n",
    "moon = coord.get_moon(times,location = earth)\n",
    "sun = coord.get_sun(times)\n",
    "\n",
    "\n",
    "# Convert from helioprojective coordinates to altitude and azimuth angles.\n",
    "alt_az = coord.AltAz(obstime=times, location=earth)\n",
    "\n",
    "moon_coords = moon.transform_to(alt_az)\n",
    "sun_coords = sun.transform_to(alt_az)\n",
    "\n",
    "separation = moon_coords.separation(sun_coords)"
   ]
  },
  {
   "cell_type": "markdown",
   "metadata": {},
   "source": [
    "## Plotting\n",
    "\n",
    "We've now done much of the hard work (computationally speaking) so let's sit back, relax, and plot this up. Of course, for a python novice, this is actually quite difficult. Therefore, I'm liberally borrowing from the link above."
   ]
  },
  {
   "cell_type": "code",
   "execution_count": 5,
   "metadata": {},
   "outputs": [
    {
     "data": {
      "image/png": "[encoded data removed]",
      "text/plain": [
       "<Figure size 600x600 with 1 Axes>"
      ]
     },
     "metadata": {},
     "output_type": "display_data"
    }
   ],
   "source": [
    "i0 = separation.argmin() - 128\n",
    "i1 = separation.argmin() + 128\n",
    "\n",
    "\n",
    "fig, ax = plt.subplots(1, 1, figsize=(6, 6))\n",
    "\n",
    "\n",
    "x = np.arange(0, 2*np.pi, 0.01)\n",
    "\n",
    "moon_pa = matplotlib.patches.Circle((0,0), radius = 1,\n",
    "                              color='#000000', zorder=2)\n",
    "sun_pa = matplotlib.patches.Circle((0,0), radius = 1,\n",
    "                             color='#FFFFFF', zorder=1)\n",
    "\n",
    "ax.set_aspect(\"equal\", adjustable=\"datalim\")\n",
    "\n",
    "ax.add_patch(moon_pa)\n",
    "ax.add_patch(sun_pa)\n",
    "\n",
    "def animate(i):\n",
    "    moon_pa.center = [moon_coords.az[i].degree, moon_coords.alt[i].degree]\n",
    "    sun_pa.center = [sun_coords.az[i].degree, sun_coords.alt[i].degree]\n",
    "    \n",
    "    moon_pa.center = np.array(moon_pa.center) - np.array(sun_pa.center)\n",
    "    \n",
    "\n",
    "    moon_pa.height = 0.5\n",
    "    sun_pa.height = 0.5\n",
    "    moon_pa.width = 0.5\n",
    "    sun_pa.width = 0.5\n",
    "    \n",
    "    sun_pa.center = [0,0]\n",
    "    \n",
    "    ax.set_xlim(-0.5, 0.5)\n",
    "    ax.set_ylim(-0.5, 0.5)\n",
    "    ax.set_facecolor((0.0, 0.0, 0.0))\n",
    "    ax.set_xticks([])\n",
    "    ax.set_yticks([])\n",
    "    \n",
    "    dstr = str(timesDT[i])[:10]\n",
    "    tstr = str(timesDT[i])[11:]\n",
    "    ttl = sites.long_name[siteIdx] + ' ' + dstr + ' ' + tstr + ' UTC'\n",
    " \n",
    "    \n",
    "    ax.text(-0.4, 0.4, ttl,color='white',fontsize=16,backgroundcolor='black',zorder=3)\n",
    "    \n",
    "    return moon_pa, sun_pa\n",
    "\n",
    "def init():\n",
    "    return animate(i0)\n",
    "\n",
    "ani = animation.FuncAnimation(fig, animate, np.arange(i0, i1),\n",
    "                              init_func=init, interval=50, blit=True, repeat=False)"
   ]
  },
  {
   "cell_type": "code",
   "execution_count": 6,
   "metadata": {},
   "outputs": [
    {
     "ename": "IndexError",
     "evalue": "index 240 is out of bounds for axis 0 with size 240",
     "output_type": "error",
     "traceback": [
      "\u001b[0;31m---------------------------------------------------------------------------\u001b[0m",
      "\u001b[0;31mIndexError\u001b[0m                                Traceback (most recent call last)",
      "Cell \u001b[0;32mIn[6], line 1\u001b[0m\n\u001b[0;32m----> 1\u001b[0m HTML(ani\u001b[38;5;241m.\u001b[39mto_html5_video())\n",
      "File \u001b[0;32m~/anaconda3/lib/python3.11/site-packages/matplotlib/animation.py:1288\u001b[0m, in \u001b[0;36mAnimation.to_html5_video\u001b[0;34m(self, embed_limit)\u001b[0m\n\u001b[1;32m   1284\u001b[0m Writer \u001b[38;5;241m=\u001b[39m writers[mpl\u001b[38;5;241m.\u001b[39mrcParams[\u001b[38;5;124m'\u001b[39m\u001b[38;5;124manimation.writer\u001b[39m\u001b[38;5;124m'\u001b[39m]]\n\u001b[1;32m   1285\u001b[0m writer \u001b[38;5;241m=\u001b[39m Writer(codec\u001b[38;5;241m=\u001b[39m\u001b[38;5;124m'\u001b[39m\u001b[38;5;124mh264\u001b[39m\u001b[38;5;124m'\u001b[39m,\n\u001b[1;32m   1286\u001b[0m                 bitrate\u001b[38;5;241m=\u001b[39mmpl\u001b[38;5;241m.\u001b[39mrcParams[\u001b[38;5;124m'\u001b[39m\u001b[38;5;124manimation.bitrate\u001b[39m\u001b[38;5;124m'\u001b[39m],\n\u001b[1;32m   1287\u001b[0m                 fps\u001b[38;5;241m=\u001b[39m\u001b[38;5;241m1000.\u001b[39m \u001b[38;5;241m/\u001b[39m \u001b[38;5;28mself\u001b[39m\u001b[38;5;241m.\u001b[39m_interval)\n\u001b[0;32m-> 1288\u001b[0m \u001b[38;5;28mself\u001b[39m\u001b[38;5;241m.\u001b[39msave(\u001b[38;5;28mstr\u001b[39m(path), writer\u001b[38;5;241m=\u001b[39mwriter)\n\u001b[1;32m   1289\u001b[0m \u001b[38;5;66;03m# Now open and base64 encode.\u001b[39;00m\n\u001b[1;32m   1290\u001b[0m vid64 \u001b[38;5;241m=\u001b[39m base64\u001b[38;5;241m.\u001b[39mencodebytes(path\u001b[38;5;241m.\u001b[39mread_bytes())\n",
      "File \u001b[0;32m~/anaconda3/lib/python3.11/site-packages/matplotlib/animation.py:1103\u001b[0m, in \u001b[0;36mAnimation.save\u001b[0;34m(self, filename, writer, fps, dpi, codec, bitrate, extra_args, metadata, extra_anim, savefig_kwargs, progress_callback)\u001b[0m\n\u001b[1;32m   1100\u001b[0m \u001b[38;5;28;01mfor\u001b[39;00m data \u001b[38;5;129;01min\u001b[39;00m \u001b[38;5;28mzip\u001b[39m(\u001b[38;5;241m*\u001b[39m[a\u001b[38;5;241m.\u001b[39mnew_saved_frame_seq() \u001b[38;5;28;01mfor\u001b[39;00m a \u001b[38;5;129;01min\u001b[39;00m all_anim]):\n\u001b[1;32m   1101\u001b[0m     \u001b[38;5;28;01mfor\u001b[39;00m anim, d \u001b[38;5;129;01min\u001b[39;00m \u001b[38;5;28mzip\u001b[39m(all_anim, data):\n\u001b[1;32m   1102\u001b[0m         \u001b[38;5;66;03m# TODO: See if turning off blit is really necessary\u001b[39;00m\n\u001b[0;32m-> 1103\u001b[0m         anim\u001b[38;5;241m.\u001b[39m_draw_next_frame(d, blit\u001b[38;5;241m=\u001b[39m\u001b[38;5;28;01mFalse\u001b[39;00m)\n\u001b[1;32m   1104\u001b[0m         \u001b[38;5;28;01mif\u001b[39;00m progress_callback \u001b[38;5;129;01mis\u001b[39;00m \u001b[38;5;129;01mnot\u001b[39;00m \u001b[38;5;28;01mNone\u001b[39;00m:\n\u001b[1;32m   1105\u001b[0m             progress_callback(frame_number, total_frames)\n",
      "File \u001b[0;32m~/anaconda3/lib/python3.11/site-packages/matplotlib/animation.py:1138\u001b[0m, in \u001b[0;36mAnimation._draw_next_frame\u001b[0;34m(self, framedata, blit)\u001b[0m\n\u001b[1;32m   1134\u001b[0m \u001b[38;5;28;01mdef\u001b[39;00m \u001b[38;5;21m_draw_next_frame\u001b[39m(\u001b[38;5;28mself\u001b[39m, framedata, blit):\n\u001b[1;32m   1135\u001b[0m     \u001b[38;5;66;03m# Breaks down the drawing of the next frame into steps of pre- and\u001b[39;00m\n\u001b[1;32m   1136\u001b[0m     \u001b[38;5;66;03m# post- draw, as well as the drawing of the frame itself.\u001b[39;00m\n\u001b[1;32m   1137\u001b[0m     \u001b[38;5;28mself\u001b[39m\u001b[38;5;241m.\u001b[39m_pre_draw(framedata, blit)\n\u001b[0;32m-> 1138\u001b[0m     \u001b[38;5;28mself\u001b[39m\u001b[38;5;241m.\u001b[39m_draw_frame(framedata)\n\u001b[1;32m   1139\u001b[0m     \u001b[38;5;28mself\u001b[39m\u001b[38;5;241m.\u001b[39m_post_draw(framedata, blit)\n",
      "File \u001b[0;32m~/anaconda3/lib/python3.11/site-packages/matplotlib/animation.py:1767\u001b[0m, in \u001b[0;36mFuncAnimation._draw_frame\u001b[0;34m(self, framedata)\u001b[0m\n\u001b[1;32m   1763\u001b[0m     \u001b[38;5;28mself\u001b[39m\u001b[38;5;241m.\u001b[39m_save_seq \u001b[38;5;241m=\u001b[39m \u001b[38;5;28mself\u001b[39m\u001b[38;5;241m.\u001b[39m_save_seq[\u001b[38;5;241m-\u001b[39m\u001b[38;5;28mself\u001b[39m\u001b[38;5;241m.\u001b[39m_save_count:]\n\u001b[1;32m   1765\u001b[0m \u001b[38;5;66;03m# Call the func with framedata and args. If blitting is desired,\u001b[39;00m\n\u001b[1;32m   1766\u001b[0m \u001b[38;5;66;03m# func needs to return a sequence of any artists that were modified.\u001b[39;00m\n\u001b[0;32m-> 1767\u001b[0m \u001b[38;5;28mself\u001b[39m\u001b[38;5;241m.\u001b[39m_drawn_artists \u001b[38;5;241m=\u001b[39m \u001b[38;5;28mself\u001b[39m\u001b[38;5;241m.\u001b[39m_func(framedata, \u001b[38;5;241m*\u001b[39m\u001b[38;5;28mself\u001b[39m\u001b[38;5;241m.\u001b[39m_args)\n\u001b[1;32m   1769\u001b[0m \u001b[38;5;28;01mif\u001b[39;00m \u001b[38;5;28mself\u001b[39m\u001b[38;5;241m.\u001b[39m_blit:\n\u001b[1;32m   1771\u001b[0m     err \u001b[38;5;241m=\u001b[39m \u001b[38;5;167;01mRuntimeError\u001b[39;00m(\u001b[38;5;124m'\u001b[39m\u001b[38;5;124mThe animation function must return a sequence \u001b[39m\u001b[38;5;124m'\u001b[39m\n\u001b[1;32m   1772\u001b[0m                        \u001b[38;5;124m'\u001b[39m\u001b[38;5;124mof Artist objects.\u001b[39m\u001b[38;5;124m'\u001b[39m)\n",
      "Cell \u001b[0;32mIn[5], line 21\u001b[0m, in \u001b[0;36manimate\u001b[0;34m(i)\u001b[0m\n\u001b[1;32m     20\u001b[0m \u001b[38;5;28;01mdef\u001b[39;00m \u001b[38;5;21manimate\u001b[39m(i):\n\u001b[0;32m---> 21\u001b[0m     moon_pa\u001b[38;5;241m.\u001b[39mcenter \u001b[38;5;241m=\u001b[39m [moon_coords\u001b[38;5;241m.\u001b[39maz[i]\u001b[38;5;241m.\u001b[39mdegree, moon_coords\u001b[38;5;241m.\u001b[39malt[i]\u001b[38;5;241m.\u001b[39mdegree]\n\u001b[1;32m     22\u001b[0m     sun_pa\u001b[38;5;241m.\u001b[39mcenter \u001b[38;5;241m=\u001b[39m [sun_coords\u001b[38;5;241m.\u001b[39maz[i]\u001b[38;5;241m.\u001b[39mdegree, sun_coords\u001b[38;5;241m.\u001b[39malt[i]\u001b[38;5;241m.\u001b[39mdegree]\n\u001b[1;32m     24\u001b[0m     moon_pa\u001b[38;5;241m.\u001b[39mcenter \u001b[38;5;241m=\u001b[39m np\u001b[38;5;241m.\u001b[39marray(moon_pa\u001b[38;5;241m.\u001b[39mcenter) \u001b[38;5;241m-\u001b[39m np\u001b[38;5;241m.\u001b[39marray(sun_pa\u001b[38;5;241m.\u001b[39mcenter)\n",
      "File \u001b[0;32m~/anaconda3/lib/python3.11/site-packages/astropy/units/quantity.py:1269\u001b[0m, in \u001b[0;36mQuantity.__getitem__\u001b[0;34m(self, key)\u001b[0m\n\u001b[1;32m   1266\u001b[0m     \u001b[38;5;28;01mreturn\u001b[39;00m \u001b[38;5;28mself\u001b[39m\u001b[38;5;241m.\u001b[39m_new_view(\u001b[38;5;28mself\u001b[39m\u001b[38;5;241m.\u001b[39mview(np\u001b[38;5;241m.\u001b[39mndarray)[key], \u001b[38;5;28mself\u001b[39m\u001b[38;5;241m.\u001b[39munit[key])\n\u001b[1;32m   1268\u001b[0m \u001b[38;5;28;01mtry\u001b[39;00m:\n\u001b[0;32m-> 1269\u001b[0m     out \u001b[38;5;241m=\u001b[39m \u001b[38;5;28msuper\u001b[39m()\u001b[38;5;241m.\u001b[39m\u001b[38;5;21m__getitem__\u001b[39m(key)\n\u001b[1;32m   1270\u001b[0m \u001b[38;5;28;01mexcept\u001b[39;00m \u001b[38;5;167;01mIndexError\u001b[39;00m:\n\u001b[1;32m   1271\u001b[0m     \u001b[38;5;66;03m# We want zero-dimensional Quantity objects to behave like scalars,\u001b[39;00m\n\u001b[1;32m   1272\u001b[0m     \u001b[38;5;66;03m# so they should raise a TypeError rather than an IndexError.\u001b[39;00m\n\u001b[1;32m   1273\u001b[0m     \u001b[38;5;28;01mif\u001b[39;00m \u001b[38;5;28mself\u001b[39m\u001b[38;5;241m.\u001b[39misscalar:\n",
      "\u001b[0;31mIndexError\u001b[0m: index 240 is out of bounds for axis 0 with size 240"
     ]
    }
   ],
   "source": [
    "HTML(ani.to_html5_video())"
   ]
  }
 ],
 "metadata": {
  "kernelspec": {
   "display_name": "anaconda",
   "language": "python",
   "name": "anaconda"
  },
  "language_info": {
   "codemirror_mode": {
    "name": "ipython",
    "version": 3
   },
   "file_extension": ".py",
   "mimetype": "text/x-python",
   "name": "python",
   "nbconvert_exporter": "python",
   "pygments_lexer": "ipython3",
   "version": "3.11.5"
  }
 },
 "nbformat": 4,
 "nbformat_minor": 4
}
